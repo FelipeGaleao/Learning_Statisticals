{
 "metadata": {
  "language_info": {
   "codemirror_mode": {
    "name": "ipython",
    "version": 3
   },
   "file_extension": ".py",
   "mimetype": "text/x-python",
   "name": "python",
   "nbconvert_exporter": "python",
   "pygments_lexer": "ipython3",
   "version": "3.8.5"
  },
  "orig_nbformat": 2,
  "kernelspec": {
   "name": "python385jvsc74a57bd080df4573815e2fbc1434c8f9d7234411ca19ec91ea5669cedcae75f03f5659be",
   "display_name": "Python 3.8.5 64-bit ('base': conda)"
  }
 },
 "nbformat": 4,
 "nbformat_minor": 2,
 "cells": [
  {
   "source": [
    "\n",
    "<div style=\"margin-left: 10px\">\n",
    "<h1>Universidade Federal de Mato Grosso do Sul</h1>\n",
    "Campus de Campo Grande <br>\n",
    "Estatística – Prof. Cássio Pinho dos Reis\n",
    "</div>\n",
    "</div>\n",
    "\n",
    "\n",
    "<left><h3>9ª LISTA DE EXERCÍCIOS - parte 1</h3></left> <br>\n",
    "<b>Turma:</b> Engenharia de Software <br>\n",
    "<b>RGA:</b> 2021.1906.069-7<br>\n",
    "<b>Aluno:</b> Maycon Felipe da Silva Mota\n",
    "\n",
    "\n",
    "\n",
    "---\n",
    "\n",
    "\n",
    "\n"
   ],
   "cell_type": "markdown",
   "metadata": {}
  },
  {
   "cell_type": "code",
   "execution_count": 23,
   "metadata": {},
   "outputs": [],
   "source": [
    "# Definir as funções que irei usar nos exercicios abaixos"
   ]
  },
  {
   "source": [
    "# 1ª Questão – Formule alguma hipótese para os seguintes temas:"
   ],
   "cell_type": "markdown",
   "metadata": {}
  },
  {
   "source": [
    "## a) Porcentagem de brasileiros analfabetos:\n",
    "A porcentagem de brasileiros analfabetos é de 54,32%."
   ],
   "cell_type": "markdown",
   "metadata": {}
  },
  {
   "source": [
    "## b) Altura média de alunos de uma sala de aula:\n",
    "A altura média de alunos de uma sala é de 164cm"
   ],
   "cell_type": "markdown",
   "metadata": {}
  },
  {
   "source": [
    "## c) Proporção de pessoas de uma cidade com uma certa deficiência:\n",
    "A proporção é de 1/5 de pessoas que possuem deficiência"
   ],
   "cell_type": "markdown",
   "metadata": {}
  },
  {
   "source": [
    "# 2ª Questão – Explique os erros tipo 1 e tipo 2 que podem ocorrer quando uma pessoa é submetido a um exame:\n",
    "\n",
    "<p> Erro Tipo I. Quando a hipótese nula é verdadeira e você a rejeita, comete um erro do tipo I. A probabilidade de cometer um erro do tipo I é α, que é o nível de significância que você definiu para seu teste de hipóteses. Um α de 0,05 indica que você quer aceitar uma chance de 5% de que está errado ao rejeitar a hipótese nula. Para reduzir este risco, você deve usar um valor inferior para α. Entretanto, usar um valor inferior para alfa significa que você terá menos probabilidade de detectar uma diferença verdadeira, se existir uma realmente. </p> <br>\n",
    "<p> Erro Tipo II. Quando a hipótese nula é falsa e você não a rejeita, comete um erro de tipo II. A probabilidade de cometer um erro de tipo II é β, que depende do poder do teste. Você pode diminuir o risco de cometer um erro do tipo II, assegurando que o seu teste tenha potência suficiente. Você pode fazer isso garantindo que o tamanho amostral seja grande o suficiente para detectar uma diferença prática, quando realmente existir uma. </p> "
   ],
   "cell_type": "markdown",
   "metadata": {}
  },
  {
   "source": [
    "# 3ª Questão – O que é hipótese estatística?\n",
    "<p> Um teste de uma hipóteses estatística é o procedimento ou regra de decisão que nos possibilita decidir por H0 ou Ha, com base a informação contida na amostra. </p>"
   ],
   "cell_type": "markdown",
   "metadata": {}
  }
 ]
}