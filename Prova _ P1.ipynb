{
 "metadata": {
  "language_info": {
   "codemirror_mode": {
    "name": "ipython",
    "version": 3
   },
   "file_extension": ".py",
   "mimetype": "text/x-python",
   "name": "python",
   "nbconvert_exporter": "python",
   "pygments_lexer": "ipython3",
   "version": "3.8.5"
  },
  "orig_nbformat": 2,
  "kernelspec": {
   "name": "python385jvsc74a57bd080df4573815e2fbc1434c8f9d7234411ca19ec91ea5669cedcae75f03f5659be",
   "display_name": "Python 3.8.5 64-bit ('base': conda)"
  }
 },
 "nbformat": 4,
 "nbformat_minor": 2,
 "cells": [
  {
   "source": [
    "\n",
    "<div style=\"margin-left: 10px\">\n",
    "<h1>Universidade Federal de Mato Grosso do Sul</h1>\n",
    "Campus de Campo Grande <br>\n",
    "Estatística – Prof. Cássio Pinho dos Reis\n",
    "</div>\n",
    "</div>\n",
    "\n",
    "\n",
    "<left><h3>Prova P1</h3></left> <br>\n",
    "<b>Turma:</b> Engenharia de Software <br>\n",
    "<b>RGA:</b> 2021.1906.069-7<br>\n",
    "<b>Aluno:</b> Maycon Felipe da Silva Mota\n",
    "\n",
    "\n",
    "\n",
    "---\n",
    "\n",
    "\n",
    "\n"
   ],
   "cell_type": "markdown",
   "metadata": {}
  },
  {
   "cell_type": "code",
   "execution_count": 31,
   "metadata": {},
   "outputs": [],
   "source": [
    "import itertools as it\n",
    "import pandas as pd\n",
    "import numpy as np\n",
    "import math\n",
    "import statistics as stats\n",
    "from scipy.stats import poisson\n",
    "from scipy.stats import norm\n",
    "from scipy.stats import binom    \n"
   ]
  },
  {
   "source": [
    "## 1ª Questão – Em uma escola de diversos idiomas de uma grande cidade que Fulaninho estuda, tem mil alunos matriculados regulamente. Desses, 600 são homens. Como política dessa escola, o aluno pode se matricular em somente um idioma, ou seja, ele não pode se matricular em 2 ou mais idiomas. Sabe-se ainda que 300 optaram por inglês e outros 500 por espanhol. Daqueles que optaram por inglês, 100 são homens e 200 mulheres optaram por espanhol. Um aluno é escolhido ao acaso para ganhar um prêmio. Calcule a probabilidade do vencedor desse prêmio:"
   ],
   "cell_type": "markdown",
   "metadata": {}
  },
  {
   "cell_type": "code",
   "execution_count": 32,
   "metadata": {},
   "outputs": [],
   "source": [
    "def calcularProb(evento, espacoAmostral):\n",
    "    calculo = evento/espacoAmostral\n",
    "    return calculo"
   ]
  },
  {
   "source": [
    "### a) Ser homem e ter optado por inglês. (0,5 ponto)\n"
   ],
   "cell_type": "markdown",
   "metadata": {}
  },
  {
   "cell_type": "code",
   "execution_count": 33,
   "metadata": {},
   "outputs": [
    {
     "output_type": "stream",
     "name": "stdout",
     "text": [
      "A probabilidade é de 10.000%\n"
     ]
    }
   ],
   "source": [
    "# Valores\n",
    "# Homem = 100 (Inglês), 300 (Espanhol), 200 (Outros), Total = 600\n",
    "# Mulheres = 200 (Inglês), 100 (Espanhol), 0 (Outros), Total = 400\n",
    "# Valor Total = 1000\n",
    "\n",
    "homem_ingles = 100\n",
    "valor_total = 1000\n",
    "prob = calcularProb(100, 1000)\n",
    "print(\"A probabilidade é de {:.3%}\".format(prob))"
   ]
  },
  {
   "source": [
    "### b) Ser mulher ou ter optado por espanhol. (0,5 ponto)\n"
   ],
   "cell_type": "markdown",
   "metadata": {}
  },
  {
   "cell_type": "code",
   "execution_count": 34,
   "metadata": {},
   "outputs": [
    {
     "output_type": "stream",
     "name": "stdout",
     "text": [
      "A probabilidade é de 70.000%\n"
     ]
    }
   ],
   "source": [
    "valor_mulher = 400\n",
    "valor_espanhol = 500\n",
    "valor_mulher_espanhol = 200\n",
    "valor_espanhol = valor_espanhol - valor_mulher_espanhol\n",
    "valor_evento = valor_mulher + valor_espanhol # 700/1000\n",
    "valor_total = 1000\n",
    "prob = calcularProb(valor_evento, 1000)\n",
    "print(\"A probabilidade é de {:.3%}\".format(prob))"
   ]
  },
  {
   "source": [
    "### c) Ser homem sabendo que o aluno optou por espanhol. (0,5 ponto)"
   ],
   "cell_type": "markdown",
   "metadata": {}
  },
  {
   "cell_type": "code",
   "execution_count": 35,
   "metadata": {},
   "outputs": [
    {
     "output_type": "stream",
     "name": "stdout",
     "text": [
      "A probabilidade é de 30.000%\n"
     ]
    }
   ],
   "source": [
    "\n",
    "homem_espanhol = 300\n",
    "valor_total = 1000\n",
    "prob = calcularProb(300, 1000)\n",
    "print(\"A probabilidade é de {:.3%}\".format(prob))"
   ]
  },
  {
   "source": [
    "## 2ª Questão – Luizinho possui 26 anos e faz faculdade de Estatística em uma Universidade. Nessa universidade, a média de idade dos alunos do curso de estatística é de 24 anos, possuindo também um desvio padrão de 5 anos. Calcule a probabilidade de um aluno ser escolhido ao acaso e ele ter:"
   ],
   "cell_type": "markdown",
   "metadata": {}
  },
  {
   "cell_type": "code",
   "execution_count": 36,
   "metadata": {},
   "outputs": [],
   "source": [
    "def desvNormPadrao(lim1, lim2, desv):\n",
    "    z = (lim1-lim2)/desv\n",
    "    return z\n"
   ]
  },
  {
   "source": [
    "### a) Entre 25 e 28 anos. (1,0 ponto)\n"
   ],
   "cell_type": "markdown",
   "metadata": {}
  },
  {
   "cell_type": "code",
   "execution_count": 37,
   "metadata": {},
   "outputs": [
    {
     "output_type": "stream",
     "name": "stdout",
     "text": [
      "0.8 0.2 0.20880000000000004\nA probabilidade é de 20.880%\n"
     ]
    }
   ],
   "source": [
    "z1 = desvNormPadrao(28, 24, 5) # 0.2881\n",
    "z2 = desvNormPadrao(25, 24, 5) # 0.0793\n",
    "z3 = 0.2881-0.0793\n",
    "print(z1, z2, z3) \n",
    "print(\"A probabilidade é de {:.3%}\".format(z3))\n"
   ]
  },
  {
   "source": [
    "### b) Menos de 22 anos. (1,0 ponto)\n"
   ],
   "cell_type": "markdown",
   "metadata": {}
  },
  {
   "cell_type": "code",
   "execution_count": 38,
   "metadata": {},
   "outputs": [
    {
     "output_type": "stream",
     "name": "stdout",
     "text": [
      "-0.4 0.2 0.3446\nA probabilidade é de 34.460%\n"
     ]
    }
   ],
   "source": [
    "z1 = desvNormPadrao(22, 24, 5) # 0.1554\n",
    "z3 = 0.5 - 0.1554\n",
    "\n",
    "print(z1, z2, z3) \n",
    "print(\"A probabilidade é de {:.3%}\".format(z3))\n"
   ]
  },
  {
   "source": [
    "## 3ª Questão – Joãozinho é o “rei” do par ou ímpar. Ele desenvolveu secretamente uma tática que o faz ganhar numa disputa de par ou ímpar, o dobro de vezes em que ele perde. Pedrinho indignado com essa situação tenta sempre descobrir que tática é essa, mas nunca tem sucesso. Numa última tentativa desesperadora, Pedrinho joga 7 vezes par ou ímpar com Joãozinho. Calcule a probabilidade de Pedrinho:\n"
   ],
   "cell_type": "markdown",
   "metadata": {}
  },
  {
   "source": [
    "#### Iremos utilizar a função binom.pmf, que precisa dos seguintes parametros\n",
    "#### Número de sucesso desejados (X): \n",
    "#### Número de realizações de experimentos (P):\n",
    "#### Probabilidade de sucesso:"
   ],
   "cell_type": "markdown",
   "metadata": {}
  },
  {
   "source": [
    "### a) Perder 5 vezes. (1,0 ponto)\n"
   ],
   "cell_type": "markdown",
   "metadata": {}
  },
  {
   "cell_type": "code",
   "execution_count": 53,
   "metadata": {},
   "outputs": [
    {
     "output_type": "stream",
     "name": "stdout",
     "text": [
      "A probabilidade é de: 30.402%\n"
     ]
    }
   ],
   "source": [
    "# X = perder três vezes\n",
    "# P = qtd de jogadas\n",
    "# Y = taxa de acertos \n",
    "\n",
    "calculo = binom.pmf(5, 7, 0.66)\n",
    "print(\"A probabilidade é de: {:.3%}\".format(calculo))"
   ]
  },
  {
   "cell_type": "code",
   "execution_count": null,
   "metadata": {},
   "outputs": [],
   "source": []
  },
  {
   "source": [
    "### b) Perder mais que 2 vezes. (1,0 ponto)"
   ],
   "cell_type": "markdown",
   "metadata": {}
  },
  {
   "cell_type": "code",
   "execution_count": 55,
   "metadata": {},
   "outputs": [
    {
     "output_type": "stream",
     "name": "stdout",
     "text": [
      "A probabilidade é de: 95.078%\n"
     ]
    }
   ],
   "source": [
    "# X = perder três vezes\n",
    "# P = qtd de jogadas\n",
    "# Y = taxa de acertos \n",
    "\n",
    "p1 = binom.pmf(0, 7, 0.66) +  binom.pmf(1, 7, 0.66) + binom.pmf(2, 7, 0.66)\n",
    "p2 = 1 - p1\n",
    "\n",
    "print(\"A probabilidade é de: {:.3%}\".format(p2))\n"
   ]
  },
  {
   "source": [
    "## 4ª Questão – O uso pacífico da radioatividade tem sido cada vez mais abrangente nas diversas áreas do conhecimento humano. Os elementos radioativos, quando bem manipulados, podem ser úteis ao seres humanos. As emissões de partículas radioativas têm sido modeladas por uma equipe de pesquisadores por meio de distribuições de probabilidade, com os seus valores dependendo da fonte utilizada. Suponha que o número de partículas alfa, emitidas  por minuto, seja de 5 ocorrências por minuto de acordo com esses pesquisadores. Calcule a probabilidade de haver mais de 3 emissões por minuto. (1,5 ponto)"
   ],
   "cell_type": "markdown",
   "metadata": {}
  },
  {
   "cell_type": "code",
   "execution_count": 39,
   "metadata": {},
   "outputs": [],
   "source": [
    "# Função para cálculo da probabilidade\n",
    "\n",
    "def prob(x, t, y):\n",
    "    e = np.exp(1)\n",
    "    valor_1 = (e**(-y))*(y**x)\n",
    "    valor_2 = valor_1/math.factorial(x)\n",
    "    return valor_2\n"
   ]
  },
  {
   "cell_type": "code",
   "execution_count": 46,
   "metadata": {},
   "outputs": [
    {
     "output_type": "stream",
     "name": "stdout",
     "text": [
      "A probabilidade é de 73.497%\n"
     ]
    }
   ],
   "source": [
    "p0 = prob(0, 1, 5) #0.006737946999085469 \n",
    "p1 = prob(1, 1, 5) #0.033689734995427344 \n",
    "p2 = prob(2, 1, 5) #0.08422433748856836 \n",
    "p3 = prob(3, 1, 5) #0.14037389581428059\n",
    "vprob = 1-0.26502591529736175\n",
    "print(\"A probabilidade é de {:.3%}\".format(vprob))"
   ]
  },
  {
   "source": [
    "## 5ª Questão – Para adequar os produtos às preferências dos clientes, um projetista de páginas de internet pretende conhecer o perfil dos indivíduos que acessam um de seus sites. Pensando nisso, ele fez uma pesquisa e levantou algumas características dos visitantes de seu site, tais como, sexo, idade, nível de instrução e o provedor utilizado. Geralmente, esse tipo de pesquisa envolve centenas ou milhares de respondentes. O nível de instrução é classificado se a pessoa possui completado o ensino fundamental, médio ou superior. Para essa pesquisa, o projetista selecionou de maneira totalmente ao acaso 400 homens e 600 mulheres, de acordo com a proporção da cidade em que mora. Sabendo de tudo isso, responda:\n"
   ],
   "cell_type": "markdown",
   "metadata": {}
  },
  {
   "source": [
    "### a) Qual tipo de amostragem foi realizado? (0,5 ponto) "
   ],
   "cell_type": "markdown",
   "metadata": {}
  },
  {
   "source": [
    "Estratificada"
   ],
   "cell_type": "markdown",
   "metadata": {}
  },
  {
   "source": [
    "### b) Suponha, que o projetista utilize a população da cidade (de 20 mil habitantes) como parâmetro para estimar a quantidade amostral para esta pesquisa. Se ele quer uma amostra com um erro amostral de 6%, qual seria a quantidade amostral necessária? (1,0 ponto)"
   ],
   "cell_type": "markdown",
   "metadata": {}
  },
  {
   "cell_type": "code",
   "execution_count": 41,
   "metadata": {},
   "outputs": [
    {
     "output_type": "stream",
     "name": "stdout",
     "text": [
      "Seria necessário o valor de 273.973\n"
     ]
    }
   ],
   "source": [
    "def calcularErroAmostral(porcentagem):\n",
    "    calculo = 1/(porcentagem ** 2)  \n",
    "    return calculo\n",
    "def calcularPopulacao(eAmostral, populacao):\n",
    "    calculo = (eAmostral * populacao)/(eAmostral + populacao)\n",
    "    return calculo\n",
    "\n",
    "eAmostral = calcularErroAmostral(0.06)\n",
    "valorN = calcularPopulacao(eAmostral, 20000)\n",
    "\n",
    "print(\"Seria necessário o valor de {:.3f}\".format(valorN))"
   ]
  },
  {
   "source": [
    "## 6ª Questão – Duas equipes de medição foram analisadas por 10 dias, e as quantidades de medições diárias foram anotadas:"
   ],
   "cell_type": "markdown",
   "metadata": {}
  },
  {
   "cell_type": "code",
   "execution_count": 42,
   "metadata": {},
   "outputs": [],
   "source": [
    "equipe_a = [24, 16, 26, 10, 15, 12, 13, 24, 18, 12]\r\n",
    "equipe_b = [19, 16, 16, 18, 18, 19, 20, 17, 17, 15]"
   ]
  },
  {
   "source": [
    "### a) Qual equipe é mais produtiva em média? (0,5 ponto) "
   ],
   "cell_type": "markdown",
   "metadata": {}
  },
  {
   "cell_type": "code",
   "execution_count": 43,
   "metadata": {},
   "outputs": [
    {
     "output_type": "stream",
     "name": "stdout",
     "text": [
      "17 17.5\nEquipe B é a mais produtiva\n"
     ]
    }
   ],
   "source": [
    "media_equipe_a = stats.mean(equipe_a)\n",
    "media_equipe_b = stats.mean(equipe_b)\n",
    "\n",
    "print(media_equipe_a, media_equipe_b)\n",
    "if media_equipe_a > media_equipe_b:\n",
    "    print('Equipe A é mais produtiva')\n",
    "if media_equipe_b > media_equipe_a:\n",
    "    print('Equipe B é a mais produtiva')\n",
    "# Equipe B"
   ]
  },
  {
   "source": [
    "### b) Qual equipe é mais consistente ao longo dos dias, ou seja, aquela equipe que ao longo dos dias, teve uma variabilidade menor de medições? (1,0 ponto)"
   ],
   "cell_type": "markdown",
   "metadata": {}
  },
  {
   "cell_type": "code",
   "execution_count": 44,
   "metadata": {},
   "outputs": [
    {
     "output_type": "stream",
     "name": "stdout",
     "text": [
      "5.773502691896258 1.5811388300841898 0.3396178054056622 0.09035079029052513\nEquipe B é mais consistente\n"
     ]
    }
   ],
   "source": [
    "def calcularCV(desv, media):\n",
    "    calculo = desv/media\n",
    "    return calculo\n",
    "\n",
    "desvP_equipe_a = stats.stdev(equipe_a)\n",
    "desvP_equipe_b = stats.stdev(equipe_b)\n",
    "cv_equipe_a = calcularCV(desvP_equipe_a, media_equipe_a)\n",
    "cv_equipe_b = calcularCV(desvP_equipe_b, media_equipe_b)\n",
    "\n",
    "print(desvP_equipe_a, desvP_equipe_b, cv_equipe_a, cv_equipe_b)\n",
    "\n",
    "if cv_equipe_a < cv_equipe_b:\n",
    "    print('Equipe A é mais consistente')\n",
    "if cv_equipe_b < cv_equipe_a:\n",
    "    print('Equipe B é mais consistente')\n",
    "# Equipe B"
   ]
  },
  {
   "cell_type": "code",
   "execution_count": 45,
   "metadata": {},
   "outputs": [],
   "source": [
    "# Equipe B"
   ]
  }
 ]
}