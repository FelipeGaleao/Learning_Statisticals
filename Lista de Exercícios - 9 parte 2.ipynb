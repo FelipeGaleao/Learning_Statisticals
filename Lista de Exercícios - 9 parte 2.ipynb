{
 "metadata": {
  "language_info": {
   "codemirror_mode": {
    "name": "ipython",
    "version": 3
   },
   "file_extension": ".py",
   "mimetype": "text/x-python",
   "name": "python",
   "nbconvert_exporter": "python",
   "pygments_lexer": "ipython3",
   "version": "3.8.5"
  },
  "orig_nbformat": 2,
  "kernelspec": {
   "name": "python385jvsc74a57bd080df4573815e2fbc1434c8f9d7234411ca19ec91ea5669cedcae75f03f5659be",
   "display_name": "Python 3.8.5 64-bit ('base': conda)"
  }
 },
 "nbformat": 4,
 "nbformat_minor": 2,
 "cells": [
  {
   "source": [
    "\n",
    "<div style=\"margin-left: 10px\">\n",
    "<h1>Universidade Federal de Mato Grosso do Sul</h1>\n",
    "Campus de Campo Grande <br>\n",
    "Estatística – Prof. Cássio Pinho dos Reis\n",
    "</div>\n",
    "</div>\n",
    "\n",
    "\n",
    "<left><h3>9ª LISTA DE EXERCÍCIOS - parte 1</h3></left> <br>\n",
    "<b>Turma:</b> Engenharia de Software <br>\n",
    "<b>RGA:</b> 2021.1906.069-7<br>\n",
    "<b>Aluno:</b> Maycon Felipe da Silva Mota\n",
    "\n",
    "\n",
    "\n",
    "---\n",
    "\n",
    "\n",
    "\n"
   ],
   "cell_type": "markdown",
   "metadata": {}
  },
  {
   "source": [
    "<h3> Definir as funções que irei usar nos exercicios abaixos </h3>\n"
   ],
   "cell_type": "markdown",
   "metadata": {}
  },
  {
   "cell_type": "code",
   "execution_count": 3,
   "metadata": {},
   "outputs": [],
   "source": [
    "import math \n",
    "\n",
    "def CalcularZCal(proporcaoAmostral, valorP, tamanhoAmostral):\n",
    "    calculo_1 = proporcaoAmostral - valorP\n",
    "    calculo_2 = math.sqrt( (valorP*(1-valorP))/tamanhoAmostral)\n",
    "    resultado = calculo_1/calculo_2\n",
    "    print(f\"O valor ZCal é {resultado:.3f}\")\n",
    "    return resultado\n"
   ]
  },
  {
   "source": [
    "\n",
    "# 1ª Questão – Numa amostra de 500 eleitores selecionados ao acaso de uma cidade, verificou-se que 52% dos eleitores preferem um certo partido. Poderia essa amostra ter sido retirado de uma população que tivesse 50% de eleitores desse partido? Use o nível de 0,05"
   ],
   "cell_type": "markdown",
   "metadata": {}
  },
  {
   "cell_type": "code",
   "execution_count": 7,
   "metadata": {},
   "outputs": [
    {
     "output_type": "stream",
     "name": "stdout",
     "text": [
      "O valor ZCal é -0.895\n"
     ]
    }
   ],
   "source": [
    "# h0 = 0.5\n",
    "# h0 > 0.5 \n",
    "\n",
    "# RC: 1,96\n",
    "CalcularZCal(0.50, 0.52, 500)\n"
   ]
  },
  {
   "source": [
    "Como ZCAL encontrado foi de 0.895, não se pode rejeitar a hipótese de que a proporção de eleitores democratas é 50%, ao nível de 5%."
   ],
   "cell_type": "markdown",
   "metadata": {}
  },
  {
   "source": [
    "# 2ª Questão – Lançou-se uma moeda 100 vezes e obteve-se 60 caras. Testar ao nível de 5% se a moeda é honesta"
   ],
   "cell_type": "markdown",
   "metadata": {}
  },
  {
   "cell_type": "code",
   "execution_count": 14,
   "metadata": {},
   "outputs": [
    {
     "output_type": "stream",
     "name": "stdout",
     "text": [
      "O valor ZCal é -2.041\n"
     ]
    },
    {
     "output_type": "execute_result",
     "data": {
      "text/plain": [
       "-2.0412414523193148"
      ]
     },
     "metadata": {},
     "execution_count": 14
    }
   ],
   "source": [
    "# h0 = 0.5\n",
    "# h0 diferente de 0.5 \n",
    "\n",
    "# RC: 1,96\n",
    "CalcularZCal(0.5, 0.6, 100)\n"
   ]
  },
  {
   "cell_type": "code",
   "execution_count": null,
   "metadata": {},
   "outputs": [],
   "source": [
    "# ZCAL < RC, logo devemos descartar a hipótese da moeda ser honesta. "
   ]
  },
  {
   "source": [
    "# 3ª Questão – Uma pesquisa revelou que das 500 pessoas de um determinado local, 300 preferem uma marca de sabão em pó. Testar ao nível de 4% se pelo menos 70% dessas pessoas prefere esta marca de sabão em pó."
   ],
   "cell_type": "markdown",
   "metadata": {}
  },
  {
   "cell_type": "code",
   "execution_count": 17,
   "metadata": {},
   "outputs": [
    {
     "output_type": "stream",
     "name": "stdout",
     "text": [
      "O valor ZCal é -4.880\n"
     ]
    },
    {
     "output_type": "execute_result",
     "data": {
      "text/plain": [
       "-4.879500364742665"
      ]
     },
     "metadata": {},
     "execution_count": 17
    }
   ],
   "source": [
    "# h0 > 0.7\n",
    "# h0 < 0.7\n",
    "\n",
    "# RC: 2,05\n",
    "CalcularZCal(0.6, 0.7, 500)\n",
    "\n",
    "# ZCAL > RC, logo podemos concluir que ao menos 70% das pessoas preferem essa marca.\n"
   ]
  },
  {
   "cell_type": "code",
   "execution_count": null,
   "metadata": {},
   "outputs": [],
   "source": []
  }
 ]
}