{
 "metadata": {
  "language_info": {
   "codemirror_mode": {
    "name": "ipython",
    "version": 3
   },
   "file_extension": ".py",
   "mimetype": "text/x-python",
   "name": "python",
   "nbconvert_exporter": "python",
   "pygments_lexer": "ipython3",
   "version": "3.8.5"
  },
  "orig_nbformat": 2,
  "kernelspec": {
   "name": "python385jvsc74a57bd080df4573815e2fbc1434c8f9d7234411ca19ec91ea5669cedcae75f03f5659be",
   "display_name": "Python 3.8.5 64-bit ('base': conda)"
  }
 },
 "nbformat": 4,
 "nbformat_minor": 2,
 "cells": [
  {
   "source": [
    "\n",
    "<div style=\"margin-left: 10px\">\n",
    "<h1>Universidade Federal de Mato Grosso do Sul</h1>\n",
    "Campus de Campo Grande <br>\n",
    "Estatística – Prof. Cássio Pinho dos Reis\n",
    "</div>\n",
    "</div>\n",
    "\n",
    "\n",
    "<left><h3>7ª LISTA DE EXERCÍCIOS - parte 3</h3></left> <br>\n",
    "<b>Turma:</b> Engenharia de Software <br>\n",
    "<b>RGA:</b> 2021.1906.069-7<br>\n",
    "<b>Aluno:</b> Maycon Felipe da Silva Mota\n",
    "\n",
    "\n",
    "\n",
    "---\n",
    "\n",
    "\n",
    "\n"
   ],
   "cell_type": "markdown",
   "metadata": {}
  },
  {
   "cell_type": "code",
   "execution_count": 2,
   "metadata": {},
   "outputs": [],
   "source": [
    "import itertools as it\n",
    "import pandas as pd\n",
    "import numpy as np\n",
    "import math\n",
    "from scipy.stats import poisson\n",
    "from scipy.stats import norm\n",
    "from scipy.stats import binom    \n"
   ]
  },
  {
   "source": [
    "#### Para esse exercício, irei criar uma função para calcular a distribuição normal."
   ],
   "cell_type": "markdown",
   "metadata": {}
  },
  {
   "source": [
    "## 1ª Questão – Foram retiradas 25 peças da produção diária de uma máquina, encontrando-se para uma medida uma média de 5,2 mm. Sabendo-se que as medidas têm distribuição normal com desvio padrão populacional 1,2 mm, construa intervalo de confiança para a média aos níveis de 90, 95 e 99%"
   ],
   "cell_type": "markdown",
   "metadata": {}
  },
  {
   "cell_type": "code",
   "execution_count": 19,
   "metadata": {},
   "outputs": [
    {
     "output_type": "stream",
     "name": "stdout",
     "text": [
      "intervalo de confiança 90%: 5.036 a 5.364\nintervalo de confiança 95%: 2.848 a 7.552\nintervalo de confiança 99%: 2.109 a 8.291\n"
     ]
    }
   ],
   "source": [
    "int_conf_90 = norm.interval(0.90, loc=5.2, scale=0.1) \n",
    "int_conf_95 = norm.interval(0.95, loc=5.2, scale=1.2) \n",
    "int_conf_99 = norm.interval(0.99, loc=5.2, scale=1.2) \n",
    "\n",
    "print(\"intervalo de confiança 90%: {:.3f} a {:.3f}\".format(int_conf_90[0], int_conf_90[1]))\n",
    "print(\"intervalo de confiança 95%: {:.3f} a {:.3f}\".format(int_conf_95[0], int_conf_95[1]))\n",
    "print(\"intervalo de confiança 99%: {:.3f} a {:.3f}\".format(int_conf_99[0], int_conf_99[1]))\n"
   ]
  },
  {
   "cell_type": "code",
   "execution_count": null,
   "metadata": {},
   "outputs": [],
   "source": []
  }
 ]
}