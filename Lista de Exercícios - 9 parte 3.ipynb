{
 "metadata": {
  "language_info": {
   "codemirror_mode": {
    "name": "ipython",
    "version": 3
   },
   "file_extension": ".py",
   "mimetype": "text/x-python",
   "name": "python",
   "nbconvert_exporter": "python",
   "pygments_lexer": "ipython3",
   "version": "3.8.5"
  },
  "orig_nbformat": 2,
  "kernelspec": {
   "name": "python3",
   "display_name": "Python 3.8.5 64-bit ('base': conda)"
  },
  "interpreter": {
   "hash": "80df4573815e2fbc1434c8f9d7234411ca19ec91ea5669cedcae75f03f5659be"
  }
 },
 "nbformat": 4,
 "nbformat_minor": 2,
 "cells": [
  {
   "source": [
    "\n",
    "<div style=\"margin-left: 10px\">\n",
    "<h1>Universidade Federal de Mato Grosso do Sul</h1>\n",
    "Campus de Campo Grande <br>\n",
    "Estatística – Prof. Cássio Pinho dos Reis\n",
    "</div>\n",
    "</div>\n",
    "\n",
    "\n",
    "<left><h3>9ª LISTA DE EXERCÍCIOS - parte 3</h3></left> <br>\n",
    "<b>Turma:</b> Engenharia de Software <br>\n",
    "<b>RGA:</b> 2021.1906.069-7<br>\n",
    "<b>Aluno:</b> Maycon Felipe da Silva Mota\n",
    "\n",
    "\n",
    "\n",
    "---\n",
    "\n",
    "\n",
    "\n"
   ],
   "cell_type": "markdown",
   "metadata": {}
  },
  {
   "cell_type": "code",
   "execution_count": 1,
   "metadata": {},
   "outputs": [],
   "source": [
    "# Definir as funções que irei usar nos exercicios abaixos\n",
    "import math \n",
    "import statistics\n",
    "\n",
    "def CalcularTCal(mediaAmostra, valHip0, desvioPadraoAmostral, tamanhoAmostral):\n",
    "    calculo_1 = mediaAmostra - valHip0\n",
    "    calculo_2 = desvioPadraoAmostral/(math.sqrt(tamanhoAmostral))\n",
    "    resultado = calculo_1/calculo_2\n",
    "    print(f\"O valor TCal é {resultado:.3f}\")\n",
    "    return resultado\n",
    "\n"
   ]
  },
  {
   "source": [
    "# 1ª Questão – Numa prova que valia 20 pontos, uma amostra de 25 alunos da turma de estatística teve uma média de 13,5 pontos e um desvio padrão de 4,4 pontos. Sabe-se que para passar nesta disciplina, o aluno tem que tirar 16 pontos. Testar para um nível de 0,05 que µ=16 contra µ ≠ 16 e µ < 16 e interprete os resultados."
   ],
   "cell_type": "markdown",
   "metadata": {}
  },
  {
   "cell_type": "code",
   "execution_count": 2,
   "metadata": {},
   "outputs": [
    {
     "output_type": "stream",
     "name": "stdout",
     "text": [
      "Hipótese bicaudal\nO valor TCal é -2.841\nRejeitar H0, pois -2.841 está na R.C ao nível de 5%, uma vez que -2.841 < -2.06.\n\nHipótese unicaudal\nO valor TCal é -2.841\nRejeitar H0, pois -2.841 está na R.C ao nível de 5%, uma vez que -2.841 < 1.71.\n"
     ]
    }
   ],
   "source": [
    "##### Hipoteses\n",
    "# h0 = u\n",
    "# h1 != 16\n",
    "# h1 < 16\n",
    "# Valor TStudent = 2,06\n",
    "# Calculando TCal\n",
    "\n",
    "## Calculo para hipótese nula \n",
    "\n",
    "print(\"Hipótese bicaudal\")\n",
    "valorTStudent = -2.06\n",
    "valor_TCAL = CalcularTCal(13.5,16,4.4,25)\n",
    "\n",
    "if(valor_TCAL < valorTStudent):\n",
    "    print(f\"Rejeitar H0, pois {valor_TCAL:.3f} está na R.C ao nível de 5%, uma vez que {valor_TCAL:.3f} < {valorTStudent}.\")\n",
    "else:\n",
    "    print(f\"Não rejeitar H0, pois {valor_TCAL:.3f} está na R.C ao nível de 5%, uma vez que {valor_TCAL:.3f} < {valorTStudent}.\")\n",
    "\n",
    "print(\"\\nHipótese unicaudal\")\n",
    "\n",
    "# Calculo para Hipotese Alternativa\n",
    "valorTStudent = 1.71\n",
    "valor_TCAL = CalcularTCal(13.5,16,4.4,25)\n",
    "\n",
    "if(valor_TCAL < valorTStudent):\n",
    "    print(f\"Rejeitar H0, pois {valor_TCAL:.3f} está na R.C ao nível de 5%, uma vez que {valor_TCAL:.3f} < {valorTStudent}.\")\n",
    "else:\n",
    "    print(f\"Não rejeitar H0, pois {valor_TCAL:.3f} está na R.C ao nível de 5%, uma vez que {valor_TCAL:.3f} < {valorTStudent}.\")\n",
    "\n",
    "\n",
    "\n"
   ]
  },
  {
   "source": [
    "# Questão 2 - Retirada uma amostra de 15 parafusos, obteve as medidas abaixo para seus diâmetros (mm). Teste se µ = 12,5 contra µ ≠ 12,5 ou µ < 12,5 ou µ > 12,5 ao nível de 0,05, e interprete os resultados"
   ],
   "cell_type": "markdown",
   "metadata": {}
  },
  {
   "cell_type": "code",
   "execution_count": 3,
   "metadata": {},
   "outputs": [
    {
     "output_type": "stream",
     "name": "stdout",
     "text": [
      "O valor TCal é -0.721\nNão rejeitar H0, pois -0.721 não está na R.C ao nível de 5%, uma vez que -0.721 < -2.1448.\n\nHipótese unicaudal\nO valor TCal é -0.721\nNão rejeitar H0, pois -0.721 não está na R.C ao nível de 5%, uma vez que -0.721 < -1.7613.\n"
     ]
    }
   ],
   "source": [
    "# Valor T Student: \n",
    "parafusos = [10, 10, 10, 11, 11, 12, 12, 12, 12, 13, 13, 14, 14, 14, 15]\n",
    "media_parafusos = statistics.mean(parafusos)\n",
    "desvio_padrao = statistics.stdev(parafusos)\n",
    "valorTStudent = -2.1448\n",
    "valor_TCAL = CalcularTCal(media_parafusos,12.5, desvio_padrao,15)\n",
    "\n",
    "# Hip A =\n",
    "if(valor_TCAL < valorTStudent):\n",
    "    print(f\"Rejeitar H0, pois {valor_TCAL:.3f} está na R.C ao nível de 5%, uma vez que {valor_TCAL:.3f} < {valorTStudent}.\")\n",
    "else:\n",
    "    print(f\"Não rejeitar H0, pois {valor_TCAL:.3f} não está na R.C ao nível de 5%, uma vez que {valor_TCAL:.3f} < {valorTStudent}.\")\n",
    "\n",
    "# Hip = 12.5\n",
    "# HipA <> 12.5\n",
    "\n",
    "print(\"\\nHipótese unicaudal\")\n",
    "\n",
    "# Calculo para Hipotese Alternativa\n",
    "# hipA \n",
    "valorTStudent = -1.7613\n",
    "valor_TCAL = CalcularTCal(media_parafusos,12.5, desvio_padrao,15)\n",
    "\n",
    "if(valor_TCAL < valorTStudent):\n",
    "    print(f\"Rejeitar H0, pois {valor_TCAL:.3f} está na R.C ao nível de 5%, uma vez que {valor_TCAL:.3f} < {valorTStudent}.\")\n",
    "else:\n",
    "    print(f\"Não rejeitar H0, pois {valor_TCAL:.3f} não está na R.C ao nível de 5%, uma vez que {valor_TCAL:.3f} < {valorTStudent}.\")\n",
    "    \n"
   ]
  },
  {
   "source": [
    "# 3ª Questão – A estatura (cm) de 20 recém-nascidos num hospital foi anotado, as medidas estão abaixo. Teste se a altura média desses recém-nascidos é de 50 cm ou menor ao nível de 0,05, e interprete os resultados"
   ],
   "cell_type": "markdown",
   "metadata": {}
  },
  {
   "cell_type": "code",
   "execution_count": 7,
   "metadata": {},
   "outputs": [
    {
     "output_type": "stream",
     "name": "stdout",
     "text": [
      "O valor TCal é -1.069\nNão rejeitar H0, pois -1.069 não está na R.C ao nível de 5%, uma vez que -1.069 < -2.093.\n\nHipótese unicaudal\nO valor TCal é -1.069\nNão rejeitar H0, pois -1.069 não está na R.C ao nível de 5%, uma vez que -1.069 < -1.7291.\n"
     ]
    }
   ],
   "source": [
    "# Valor T Student: \n",
    "bebes = [41,50,52,49,49,54,50,47,52,49,50,52,50,47,49,51,46,50,49,50]\n",
    "media_bebes = statistics.mean(bebes)\n",
    "desvio_padrao = statistics.stdev(bebes)\n",
    "valorTStudent = -2.0930\n",
    "valor_TCAL = CalcularTCal(media_bebes,50, desvio_padrao, 20)\n",
    "\n",
    "# Hipoteses \n",
    "# Hip = 50\n",
    "# HipA < 50\n",
    "\n",
    "if(valor_TCAL < valorTStudent):\n",
    "    print(f\"Rejeitar H0, pois {valor_TCAL:.3f} está na R.C ao nível de 5%, uma vez que {valor_TCAL:.3f} < {valorTStudent}.\")\n",
    "else:\n",
    "    print(f\"Não rejeitar H0, pois {valor_TCAL:.3f} não está na R.C ao nível de 5%, uma vez que {valor_TCAL:.3f} < {valorTStudent}.\")\n",
    "\n",
    "\n",
    "\n",
    "print(\"\\nHipótese unicaudal\")\n",
    "\n",
    "# Calculo para Hipotese Alternativa\n",
    "valorTStudent = -1.7291\n",
    "valor_TCAL = CalcularTCal(media_bebes,50, desvio_padrao, 20)\n",
    "\n",
    "if(valor_TCAL < valorTStudent):\n",
    "    print(f\"Rejeitar H0, pois {valor_TCAL:.3f} está na R.C ao nível de 5%, uma vez que {valor_TCAL:.3f} < {valorTStudent}.\")\n",
    "else:\n",
    "    print(f\"Não rejeitar H0, pois {valor_TCAL:.3f} não está na R.C ao nível de 5%, uma vez que {valor_TCAL:.3f} < {valorTStudent}.\")\n"
   ]
  },
  {
   "source": [
    "# 4ª Questão – 15 plantas foram submetidos a um novo método de irrigação durante 3 semanas e verificou-se os aumentos da altura (em cm) das palntas que estão abaixo. Teste se o aumento médio de altura foi de 10 centímetros ao nível de 0,10, e interprete os resultados\n"
   ],
   "cell_type": "markdown",
   "metadata": {}
  },
  {
   "cell_type": "code",
   "execution_count": 10,
   "metadata": {},
   "outputs": [
    {
     "output_type": "stream",
     "name": "stdout",
     "text": [
      "O valor TCal é 5.284\nNão rejeitar H0, pois 5.284 não está na R.C ao nível de 5%, uma vez que 5.284 < 1.7613.\n\nHipótese unicaudal\nO valor TCal é 5.284\nNão rejeitar H0, pois 5.284 não está na R.C ao nível de 5%, uma vez que 5.284 < -0.868.\n"
     ]
    }
   ],
   "source": [
    "# Valor T Student: \n",
    "plantas = [10,10,10,11,11,12,12,12,12,13,13,14,14,14,15]\n",
    "media_plantas = statistics.mean(plantas)\n",
    "desvio_padrao = statistics.stdev(plantas)\n",
    "valorTStudent = 1.7613\n",
    "valor_TCAL = CalcularTCal(media_plantas,10, desvio_padrao, 15)\n",
    "\n",
    "# Hipoteses \n",
    "# Hip = 50\n",
    "# HipA < 50\n",
    "\n",
    "if(valor_TCAL < valorTStudent):\n",
    "    print(f\"Rejeitar H0, pois {valor_TCAL:.3f} está na R.C ao nível de 5%, uma vez que {valor_TCAL:.3f} > {valorTStudent}.\")\n",
    "else:\n",
    "    print(f\"Não rejeitar H0, pois {valor_TCAL:.3f} não está na R.C ao nível de 5%, uma vez que {valor_TCAL:.3f} < {valorTStudent}.\")\n",
    "\n",
    "\n",
    "\n",
    "print(\"\\nHipótese unicaudal\")\n",
    "\n",
    "# Calculo para Hipotese Alternativa\n",
    "valorTStudent = -0.8680\n",
    "valor_TCAL = CalcularTCal(media_plantas,10, desvio_padrao, 15)\n",
    "\n",
    "if(valor_TCAL < valorTStudent):\n",
    "    print(f\"Rejeitar H0, pois {valor_TCAL:.3f} está na R.C ao nível de 5%, uma vez que {valor_TCAL:.3f} < {valorTStudent}.\")\n",
    "else:\n",
    "    print(f\"Não rejeitar H0, pois {valor_TCAL:.3f} não está na R.C ao nível de 5%, uma vez que {valor_TCAL:.3f} < {valorTStudent}.\")\n",
    "    \n"
   ]
  },
  {
   "cell_type": "code",
   "execution_count": null,
   "metadata": {},
   "outputs": [],
   "source": []
  }
 ]
}