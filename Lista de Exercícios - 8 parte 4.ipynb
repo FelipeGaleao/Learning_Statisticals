{
 "metadata": {
  "language_info": {
   "codemirror_mode": {
    "name": "ipython",
    "version": 3
   },
   "file_extension": ".py",
   "mimetype": "text/x-python",
   "name": "python",
   "nbconvert_exporter": "python",
   "pygments_lexer": "ipython3",
   "version": "3.8.5"
  },
  "orig_nbformat": 2,
  "kernelspec": {
   "name": "python385jvsc74a57bd080df4573815e2fbc1434c8f9d7234411ca19ec91ea5669cedcae75f03f5659be",
   "display_name": "Python 3.8.5 64-bit ('base': conda)"
  }
 },
 "nbformat": 4,
 "nbformat_minor": 2,
 "cells": [
  {
   "source": [
    "\n",
    "<div style=\"margin-left: 10px\">\n",
    "<h1>Universidade Federal de Mato Grosso do Sul</h1>\n",
    "Campus de Campo Grande <br>\n",
    "Estatística – Prof. Cássio Pinho dos Reis\n",
    "</div>\n",
    "</div>\n",
    "\n",
    "\n",
    "<left><h3>8ª LISTA DE EXERCÍCIOS - parte 4</h3></left> <br>\n",
    "<b>Turma:</b> Engenharia de Software <br>\n",
    "<b>RGA:</b> 2021.1906.069-7<br>\n",
    "<b>Aluno:</b> Maycon Felipe da Silva Mota\n",
    "\n",
    "\n",
    "\n",
    "---\n",
    "\n",
    "\n",
    "\n"
   ],
   "cell_type": "markdown",
   "metadata": {}
  },
  {
   "cell_type": "code",
   "execution_count": 22,
   "metadata": {},
   "outputs": [],
   "source": [
    "import math\n",
    "import statistics as stats\n",
    "from scipy.stats import norm\n"
   ]
  },
  {
   "cell_type": "code",
   "execution_count": 23,
   "metadata": {},
   "outputs": [],
   "source": [
    "# Definir as funções que irei usar nos exercicios abaixos"
   ]
  },
  {
   "cell_type": "code",
   "execution_count": 24,
   "metadata": {},
   "outputs": [
    {
     "output_type": "stream",
     "name": "stdout",
     "text": [
      "Pesquisar valor Z: 0.475\nResultado ======> \n P( 0.880 =< u =< 0.980 = 95.00% )\n"
     ]
    }
   ],
   "source": [
    "def calcularSignificancia(valor):\n",
    "    calculo = round(1-valor, 2) \n",
    "    print(f\"Pesquisar valor Z: {(50 -((calculo*100))/2)/100}\")\n",
    "    return calculo \n",
    "\n",
    "def calcularLimInf(proporcao, tamanhoAmostral, valorZ):\n",
    "    calculo = proporcao - valorZ * math.sqrt((proporcao*(1-proporcao))/tamanhoAmostral)\n",
    "    return calculo\n",
    "\n",
    "def calcularLimSup(proporcao, tamanhoAmostral, valorZ):\n",
    "    calculo = proporcao + valorZ * math.sqrt((proporcao*(1-proporcao))/tamanhoAmostral)\n",
    "    return calculo\n",
    "\n",
    "proporcao =  93/100\n",
    "valor_Z = calcularSignificancia(0.95) # 1.96\n",
    "limite_inf = calcularLimInf(proporcao, 100, 1.96)\n",
    "limite_sup = calcularLimSup(proporcao, 100, 1.96)\n",
    "intervalo_confiança = 0.95\n",
    "\n",
    "print(f\"Resultado ======> \\n P( {limite_inf:.3f} =< u =< {limite_sup:.3f} = {intervalo_confiança:.2%} )\")"
   ]
  },
  {
   "source": [],
   "cell_type": "markdown",
   "metadata": {}
  },
  {
   "source": [
    "# 1 - Uma amostra aleatória de 60 unidades de certo produto químico apresentou preço médio, por kg, de R\\$ 45,21. Determine um intervalo de confiança de 90% para estimar a média populacional do preço desse produto, sabendo que o desvio padrão populacional é de R$ 6,32"
   ],
   "cell_type": "markdown",
   "metadata": {}
  },
  {
   "cell_type": "code",
   "execution_count": 25,
   "metadata": {},
   "outputs": [
    {
     "output_type": "stream",
     "name": "stdout",
     "text": [
      "intervalo de confiança 90.0%: 43.868 a 46.552\n"
     ]
    }
   ],
   "source": [
    "int_conf_90 = norm.interval(0.90, loc=45.21, scale=6.32 / math.sqrt(60)) \n",
    "print(\"intervalo de confiança 90.0%: {:.3f} a {:.3f}\".format(int_conf_90[0], int_conf_90[1]))\n"
   ]
  },
  {
   "source": [
    "<p> O intervalo [43.87% ; 46.55%] contém a verdadeira proporção de peças defeituosas com 90% de confiança </p>"
   ],
   "cell_type": "markdown",
   "metadata": {}
  },
  {
   "source": [
    "# 2ª Questão – Uma amostra aleatória de 40 latas de cerveja de uma indústria de bebidas revelou uma quantidade média de 347ml de cerveja inserida nas latas. Admitindo-se que o desvio padrão das quantidades de cerveja inserido é de 4ml, construa um intervalo de confiança de 95% para a verdadeira média de cerveja nas latas"
   ],
   "cell_type": "markdown",
   "metadata": {}
  },
  {
   "cell_type": "code",
   "execution_count": 26,
   "metadata": {},
   "outputs": [
    {
     "output_type": "stream",
     "name": "stdout",
     "text": [
      "intervalo de confiança 95.0%: 345.760 a 348.240\n"
     ]
    }
   ],
   "source": [
    "int_conf_95 = norm.interval(0.95, loc=347, scale=4 / math.sqrt(40)) \n",
    "print(\"intervalo de confiança 95.0%: {:.3f} a {:.3f}\".format(int_conf_95[0], int_conf_95[1]))\n"
   ]
  },
  {
   "source": [
    "<p> O intervalo [345.760 ; 348.240] contém a verdadeira proporção de cervejas nas latas </p>"
   ],
   "cell_type": "markdown",
   "metadata": {}
  },
  {
   "source": [
    "# 3ª Questão – Uma engenheira selecionou uma amostra aleatória de 12 medidas da tensão de ruptura de certo tipo de fio de algodão, a qual apresentou uma tensão média de ruptura de 7,38kg e um desvio padrão de 1,24 kg. Determine um intervalo de 95% de confiança para a verdadeira média de ruptura desse tipo de fio."
   ],
   "cell_type": "markdown",
   "metadata": {}
  },
  {
   "cell_type": "code",
   "execution_count": 27,
   "metadata": {},
   "outputs": [
    {
     "output_type": "stream",
     "name": "stdout",
     "text": [
      "intervalo de confiança 95.0%: 6.678 a 8.082\n"
     ]
    }
   ],
   "source": [
    "int_conf_95 = norm.interval(0.95, loc=7.38, scale=1.24 / math.sqrt(12)) \n",
    "print(\"intervalo de confiança 95.0%: {:.3f} a {:.3f}\".format(int_conf_95[0], int_conf_95[1]))\n"
   ]
  },
  {
   "source": [
    "<p> O intervalo [6.678 ; 8.082] contém a verdadeira média de ruptura dos fios com intervalo de confiança de 95% é de  6.678 a 8.082. </p>"
   ],
   "cell_type": "markdown",
   "metadata": {}
  }
 ]
}